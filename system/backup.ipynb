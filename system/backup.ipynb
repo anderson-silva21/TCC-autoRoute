{
 "cells": [
  {
   "cell_type": "markdown",
   "metadata": {},
   "source": [
    "Imports"
   ]
  },
  {
   "cell_type": "code",
   "execution_count": null,
   "metadata": {},
   "outputs": [],
   "source": [
    "import cv2\n",
    "import numpy as np\n",
    "import matplotlib.pyplot as plt\n",
    "from queue import PriorityQueue\n",
    "import torch\n",
    "import os\n",
    "import glob"
   ]
  },
  {
   "cell_type": "markdown",
   "metadata": {},
   "source": [
    "Carrega MiDaS"
   ]
  },
  {
   "cell_type": "code",
   "execution_count": null,
   "metadata": {},
   "outputs": [],
   "source": [
    "midas = torch.hub.load('intel-isl/MiDaS', 'MiDaS_small')\n",
    "midas.to('cpu')\n",
    "midas.eval()"
   ]
  },
  {
   "cell_type": "markdown",
   "metadata": {},
   "source": [
    "Entrada pipeline"
   ]
  },
  {
   "cell_type": "code",
   "execution_count": null,
   "metadata": {},
   "outputs": [],
   "source": [
    "transforms = torch.hub.load('intel-isl/MiDaS', 'transforms')\n",
    "transform = transforms.small_transform"
   ]
  },
  {
   "cell_type": "markdown",
   "metadata": {},
   "source": [
    "Diretorio das imagens"
   ]
  },
  {
   "cell_type": "code",
   "execution_count": null,
   "metadata": {},
   "outputs": [],
   "source": [
    "image_dir = '..\\\\teste'\n",
    "image_files = glob.glob(os.path.join(image_dir, '*'))"
   ]
  },
  {
   "cell_type": "markdown",
   "metadata": {},
   "source": [
    "Usa a rede neural para aplicar profundidade na imagem"
   ]
  },
  {
   "cell_type": "code",
   "execution_count": null,
   "metadata": {},
   "outputs": [],
   "source": [
    "for image_file in image_files:\n",
    "    # Ler a imagem do diretório\n",
    "    image_path = os.path.join(image_dir, image_file)\n",
    "    frame = cv2.imread(image_path)\n",
    "\n",
    "    # Trasnformar entrada para o MiDaS\n",
    "    img = cv2.cvtColor(frame, cv2.COLOR_BGR2RGB)\n",
    "    imgbatch = transform(img).to('cpu')\n",
    "\n",
    "    # Fazer predição\n",
    "    with torch.no_grad():\n",
    "        prediction = midas(imgbatch)\n",
    "        prediction = torch.nn.functional.interpolate(\n",
    "            prediction.unsqueeze(1),\n",
    "            size=img.shape[:2],\n",
    "            mode='bicubic',\n",
    "            align_corners=False\n",
    "        ).squeeze()\n",
    "\n",
    "        output = prediction.cpu().numpy()\n",
    "\n",
    "        # Normalizar a saída para valores entre 0 e 255\n",
    "        output = (output - output.min()) / (output.max() - output.min())\n",
    "        output = (255 * output).astype(np.uint8)\n",
    "\n",
    "    plt.imshow(output, cmap='gray')\n",
    "    plt.pause(0.00001)\n",
    "\n",
    "    # Salvar a imagem de saída\n",
    "    output_filename = os.path.splitext(image_file)[0] + \"_map.png\"\n",
    "    output_path = os.path.join(image_dir, output_filename)\n",
    "    cv2.imwrite(output_path, output)\n",
    "    print(f'Saved {output_path}')\n",
    "    print(image_file)"
   ]
  },
  {
   "cell_type": "markdown",
   "metadata": {},
   "source": [
    "Carrega a imagem"
   ]
  },
  {
   "cell_type": "code",
   "execution_count": null,
   "metadata": {},
   "outputs": [],
   "source": [
    "img = cv2.imread('../teste/figuraCinco_map.png',\n",
    "                 cv2.IMREAD_GRAYSCALE)\n",
    "\n",
    "deubom = False\n",
    "\n",
    "if img is None:\n",
    "    print(\"Imagem não carregada.\")\n",
    "else:\n",
    "    deubom = True"
   ]
  },
  {
   "cell_type": "code",
   "execution_count": null,
   "metadata": {},
   "outputs": [],
   "source": [
    "linha_central = 580 #linha principal do espectro de intensidade do pixel\n",
    "\n",
    "if deubom:\n",
    "    x = img[linha_central, :]\n",
    "\n",
    "    window_size = 13 \n",
    "    x = np.convolve(x, np.ones(window_size) / window_size, 'same')\n",
    "    plt.plot(x)\n",
    "\n",
    "    # segunda derivada da linha central da imagem\n",
    "    dx = np.diff(x)\n",
    "    dx[:20] = 0\n",
    "    dx[-20:]= 0\n",
    "    \n",
    "    plt.figure()\n",
    "    plt.plot(dx)\n",
    "\n",
    "    # picos positivos\n",
    "    pks_positivos = []\n",
    "    y_values_positivos = []\n",
    "    while (np.max(dx) > 2.5) and len(pks_positivos) < 10:\n",
    "        pos = np.argmax(dx)\n",
    "        pks_positivos.append(pos)\n",
    "        y_values_positivos.append(dx[pos])\n",
    "        lo, hi = max(0, pos - 50), min(len(x), pos + 50)\n",
    "        dx[lo:hi] = 0\n",
    "    print(\"Picos Positivos:\", pks_positivos)\n",
    "\n",
    "    # picos negativos\n",
    "    dx_negativo = -dx\n",
    "    pks_negativos = []\n",
    "    while (np.max(dx_negativo) > 2.5) and len(pks_negativos) < 10:\n",
    "        pos = np.argmax(dx_negativo)\n",
    "        pks_negativos.append(pos)\n",
    "        lo, hi = max(0, pos - 50), min(len(x), pos + 50)\n",
    "        dx_negativo[lo:hi] = 0\n",
    "    print(\"Picos Negativos:\", pks_negativos)\n",
    "\n",
    "    # Crie a tupla de obstáculos\n",
    "    if len(pks_positivos) > 0 or len(pks_negativos) > 0:\n",
    "\n",
    "        if len(pks_positivos) == 0:\n",
    "            pks_positivos.append(0)\n",
    "\n",
    "        if len(pks_negativos) == 0:\n",
    "            pks_negativos.append(len(dx))\n",
    "\n",
    "        if pks_negativos[0] < pks_positivos[0]:\n",
    "            pks_positivos = [0] + pks_positivos\n",
    "\n",
    "        if pks_negativos[-1] < pks_positivos[-1]:\n",
    "            pks_negativos = pks_negativos + [len(dx)]\n",
    "\n",
    "        \n",
    "        if len(pks_positivos) != len(pks_negativos):\n",
    "            print(\"erro\", pks_positivos, pks_negativos, len(dx))\n",
    "        \n",
    "    mean_x = [(a+b)//2 for a, b in zip(pks_positivos, pks_negativos)]\n",
    "    y_values_positivos = [3*x[c] for c in mean_x]\n",
    "    obstaculos = list(\n",
    "        zip(pks_positivos, pks_negativos, y_values_positivos))\n",
    "    print(\"Obstáculos:\", obstaculos)\n",
    "\n",
    "    # Filtrar obstáculos com base nos critérios\n",
    "    obstaculos_filtrados = [\n",
    "        obstaculo for obstaculo in obstaculos if obstaculo[0] >= 5 or obstaculo[1] <= 1595]\n",
    "    print(\"Obstáculos filtrados:\", obstaculos_filtrados)\n",
    "\n",
    "   # Define limites mínimos para altura e diferença entre início e fim de obstáculos\n",
    "    limite_altura_minima = 126\n",
    "    limite_diferenca_x = 10\n",
    "\n",
    "    # Define as dimensões do mapa aéreo (ajuste conforme necessário)\n",
    "    largura_mapa = 1600\n",
    "    altura_mapa = 899\n",
    "\n",
    "    # Cria uma matriz para representar o mapa aéreo\n",
    "    mapa_aereo = np.zeros((altura_mapa, largura_mapa))\n",
    "\n",
    "    # Preenche o mapa aéreo com os obstáculos significativos\n",
    "    for obstaculo in obstaculos_filtrados:\n",
    "        inicio_x, fim_x, altura_y = obstaculo\n",
    "        altura_y = int(altura_y)\n",
    "        inicio_x = max(0, inicio_x)\n",
    "        fim_x = min(largura_mapa - 1, fim_x)\n",
    "        if altura_y >= altura_mapa:\n",
    "            altura_y = altura_mapa - 1\n",
    "        for x in range(inicio_x, fim_x + 1):\n",
    "            mapa_aereo[altura_y, x] = 1\n",
    "\n",
    "    plt.figure()\n",
    "    plt.imshow(mapa_aereo, cmap='gray')\n",
    "    plt.show()\n",
    "\n",
    "    nome_arquivo_saida = 'mapa_aereoDois.png'\n",
    "    cv2.imwrite(nome_arquivo_saida, mapa_aereo * 255)\n",
    "    print(f\"Mapa aéreo salvo como '{nome_arquivo_saida}'\")"
   ]
  },
  {
   "cell_type": "markdown",
   "metadata": {},
   "source": [
    "Carrega o mapa aereo"
   ]
  },
  {
   "cell_type": "code",
   "execution_count": null,
   "metadata": {},
   "outputs": [],
   "source": [
    "aereoMap = cv2.imread('mapa_aereoDois.png', cv2.IMREAD_GRAYSCALE)"
   ]
  },
  {
   "cell_type": "code",
   "execution_count": null,
   "metadata": {},
   "outputs": [],
   "source": [
    "# dilatação dos obstáculos\n",
    "kernel = np.ones((200, 200), np.uint8)\n",
    "img_dilated = cv2.dilate(aereoMap, kernel, iterations=1)\n",
    "\n",
    "# centro da base do eixo X\n",
    "start_node = (aereoMap.shape[0] - 1, aereoMap.shape[1] // 2)\n",
    "\n",
    "# destino\n",
    "goal_node = (50, 800)"
   ]
  },
  {
   "cell_type": "markdown",
   "metadata": {},
   "source": [
    "Heuristica"
   ]
  },
  {
   "cell_type": "code",
   "execution_count": null,
   "metadata": {},
   "outputs": [],
   "source": [
    "def heuristic(node, goal, img):  # distância euclidiana\n",
    "    penalty = 1.0\n",
    "    distance = np.sqrt((node[0] - goal[0]) ** 2 + (node[1] - goal[1]) ** 2)\n",
    "    penalty_term = penalty * img[node[0], node[1]] / 255.0\n",
    "    return distance + penalty_term"
   ]
  },
  {
   "cell_type": "code",
   "execution_count": null,
   "metadata": {},
   "outputs": [],
   "source": [
    "def is_valid(node, img):  # verifica limites do mapa e se não é um obstáculo\n",
    "    if (\n",
    "        0 <= node[0] < img.shape[0] and\n",
    "        0 <= node[1] < img.shape[1] and\n",
    "        img[node[0], node[1]] == 0\n",
    "    ):\n",
    "        return True\n",
    "    return False"
   ]
  },
  {
   "cell_type": "markdown",
   "metadata": {},
   "source": [
    "Algoritmo A Estrela"
   ]
  },
  {
   "cell_type": "code",
   "execution_count": null,
   "metadata": {},
   "outputs": [],
   "source": [
    "def astar(img, start, goal):\n",
    "    open_set = PriorityQueue()\n",
    "    open_set.put((0, start))\n",
    "    came_from = {}\n",
    "    g_score = {node: float('inf') for node in np.ndindex(img.shape)}\n",
    "    g_score[start] = 0\n",
    "    f_score = {node: float('inf') for node in np.ndindex(img.shape)}\n",
    "    f_score[start] = heuristic(start, goal, img)\n",
    "\n",
    "    while not open_set.empty():\n",
    "        _, current = open_set.get()\n",
    "\n",
    "        if current == goal:\n",
    "            path = []\n",
    "            while current in came_from:\n",
    "                path.append(current)\n",
    "                current = came_from[current]\n",
    "            path.append(start)\n",
    "            return path[::-1]\n",
    "\n",
    "        for neighbor in [(current[0] - 1, current[1]), (current[0] + 1, current[1]),\n",
    "                         (current[0], current[1] - 1), (current[0], current[1] + 1)]:\n",
    "            if is_valid(neighbor, img):\n",
    "                tentative_g_score = g_score[current] + 1\n",
    "                if tentative_g_score < g_score[neighbor]:\n",
    "                    came_from[neighbor] = current\n",
    "                    g_score[neighbor] = tentative_g_score\n",
    "                    f_score[neighbor] = tentative_g_score + \\\n",
    "                        heuristic(neighbor, goal, img)\n",
    "                    open_set.put((f_score[neighbor], neighbor))\n",
    "\n",
    "    return None"
   ]
  },
  {
   "cell_type": "code",
   "execution_count": null,
   "metadata": {},
   "outputs": [],
   "source": [
    "path = astar(img_dilated, start_node, goal_node)"
   ]
  },
  {
   "cell_type": "markdown",
   "metadata": {},
   "source": [
    "Desenha caminho"
   ]
  },
  {
   "cell_type": "code",
   "execution_count": null,
   "metadata": {},
   "outputs": [],
   "source": [
    "if path:\n",
    "    path_points = np.array(path)\n",
    "\n",
    "    plt.plot(path_points[:, 1], path_points[:, 0], 'r-', linewidth=2)\n",
    "\n",
    "    n = 70\n",
    "    selected_points = path_points[::n]\n",
    "\n",
    "    plt.plot(selected_points[:, 1], selected_points[:, 0], 'go', markersize=3)\n",
    "\n",
    "plt.imshow(aereoMap, cmap='gray')\n",
    "plt.title('Mapa Aéreo com Rota Encontrada')\n",
    "plt.xlabel('Eixo X')\n",
    "plt.ylabel('Eixo Y')\n",
    "plt.show()"
   ]
  }
 ],
 "metadata": {
  "kernelspec": {
   "display_name": "Python 3",
   "language": "python",
   "name": "python3"
  },
  "language_info": {
   "codemirror_mode": {
    "name": "ipython",
    "version": 3
   },
   "file_extension": ".py",
   "mimetype": "text/x-python",
   "name": "python",
   "nbconvert_exporter": "python",
   "pygments_lexer": "ipython3",
   "version": "3.11.4"
  },
  "orig_nbformat": 4
 },
 "nbformat": 4,
 "nbformat_minor": 2
}
